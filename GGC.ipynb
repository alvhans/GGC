{
 "cells": [
  {
   "cell_type": "code",
   "execution_count": 1,
   "metadata": {},
   "outputs": [],
   "source": [
    "import pandas as pd\n",
    "import numpy as np\n",
    "import matplotlib.pyplot as plt\n",
    "from mpl_toolkits import mplot3d\n",
    "%matplotlib notebook"
   ]
  },
  {
   "cell_type": "markdown",
   "metadata": {},
   "source": [
    "## DATA"
   ]
  },
  {
   "cell_type": "code",
   "execution_count": 64,
   "metadata": {},
   "outputs": [
    {
     "data": {
      "text/html": [
       "<div>\n",
       "<style scoped>\n",
       "    .dataframe tbody tr th:only-of-type {\n",
       "        vertical-align: middle;\n",
       "    }\n",
       "\n",
       "    .dataframe tbody tr th {\n",
       "        vertical-align: top;\n",
       "    }\n",
       "\n",
       "    .dataframe thead th {\n",
       "        text-align: right;\n",
       "    }\n",
       "</style>\n",
       "<table border=\"1\" class=\"dataframe\">\n",
       "  <thead>\n",
       "    <tr style=\"text-align: right;\">\n",
       "      <th></th>\n",
       "      <th>Kode</th>\n",
       "      <th>X</th>\n",
       "      <th>Y</th>\n",
       "      <th>T (c)</th>\n",
       "      <th>Ph</th>\n",
       "      <th>H2O (%)</th>\n",
       "      <th>CO2 (%)</th>\n",
       "      <th>Hg (ppb)</th>\n",
       "      <th>Ph Normal</th>\n",
       "      <th>H2O (%) Normal</th>\n",
       "      <th>CO2 (%) Normal</th>\n",
       "      <th>Hg (ppb) Normal</th>\n",
       "    </tr>\n",
       "    <tr>\n",
       "      <th>Νο.</th>\n",
       "      <th></th>\n",
       "      <th></th>\n",
       "      <th></th>\n",
       "      <th></th>\n",
       "      <th></th>\n",
       "      <th></th>\n",
       "      <th></th>\n",
       "      <th></th>\n",
       "      <th></th>\n",
       "      <th></th>\n",
       "      <th></th>\n",
       "      <th></th>\n",
       "    </tr>\n",
       "  </thead>\n",
       "  <tbody>\n",
       "    <tr>\n",
       "      <td>1</td>\n",
       "      <td>B-400</td>\n",
       "      <td>485532.3</td>\n",
       "      <td>9072204.0</td>\n",
       "      <td>28.7</td>\n",
       "      <td>6.21</td>\n",
       "      <td>4.97</td>\n",
       "      <td>0.4500</td>\n",
       "      <td>456.000</td>\n",
       "      <td>38.5641</td>\n",
       "      <td>0.696356</td>\n",
       "      <td>-0.346787</td>\n",
       "      <td>2.658965</td>\n",
       "    </tr>\n",
       "    <tr>\n",
       "      <td>2</td>\n",
       "      <td>-850</td>\n",
       "      <td>485317.9</td>\n",
       "      <td>9072591.0</td>\n",
       "      <td>30.2</td>\n",
       "      <td>6.52</td>\n",
       "      <td>6.68</td>\n",
       "      <td>0.4200</td>\n",
       "      <td>411.000</td>\n",
       "      <td>42.5104</td>\n",
       "      <td>0.824776</td>\n",
       "      <td>-0.376751</td>\n",
       "      <td>2.613842</td>\n",
       "    </tr>\n",
       "    <tr>\n",
       "      <td>3</td>\n",
       "      <td>-1500</td>\n",
       "      <td>485005.0</td>\n",
       "      <td>9073171.0</td>\n",
       "      <td>31.7</td>\n",
       "      <td>6.93</td>\n",
       "      <td>5.12</td>\n",
       "      <td>0.5300</td>\n",
       "      <td>544.000</td>\n",
       "      <td>48.0249</td>\n",
       "      <td>0.709270</td>\n",
       "      <td>-0.275724</td>\n",
       "      <td>2.735599</td>\n",
       "    </tr>\n",
       "    <tr>\n",
       "      <td>4</td>\n",
       "      <td>-2000</td>\n",
       "      <td>484737.0</td>\n",
       "      <td>9073593.0</td>\n",
       "      <td>28.9</td>\n",
       "      <td>6.06</td>\n",
       "      <td>6.09</td>\n",
       "      <td>0.5500</td>\n",
       "      <td>613.000</td>\n",
       "      <td>36.7236</td>\n",
       "      <td>0.784617</td>\n",
       "      <td>-0.259637</td>\n",
       "      <td>2.787460</td>\n",
       "    </tr>\n",
       "    <tr>\n",
       "      <td>5</td>\n",
       "      <td>-2500</td>\n",
       "      <td>484482.2</td>\n",
       "      <td>9074025.0</td>\n",
       "      <td>27.7</td>\n",
       "      <td>5.90</td>\n",
       "      <td>4.99</td>\n",
       "      <td>0.3300</td>\n",
       "      <td>306.000</td>\n",
       "      <td>34.8100</td>\n",
       "      <td>0.698101</td>\n",
       "      <td>-0.481486</td>\n",
       "      <td>2.485721</td>\n",
       "    </tr>\n",
       "    <tr>\n",
       "      <td>...</td>\n",
       "      <td>...</td>\n",
       "      <td>...</td>\n",
       "      <td>...</td>\n",
       "      <td>...</td>\n",
       "      <td>...</td>\n",
       "      <td>...</td>\n",
       "      <td>...</td>\n",
       "      <td>...</td>\n",
       "      <td>...</td>\n",
       "      <td>...</td>\n",
       "      <td>...</td>\n",
       "      <td>...</td>\n",
       "    </tr>\n",
       "    <tr>\n",
       "      <td>88</td>\n",
       "      <td>RanTMT</td>\n",
       "      <td>484502.0</td>\n",
       "      <td>9076138.0</td>\n",
       "      <td>25.2</td>\n",
       "      <td>2.03</td>\n",
       "      <td>7.16</td>\n",
       "      <td>69.3470</td>\n",
       "      <td>3188.280</td>\n",
       "      <td>4.1209</td>\n",
       "      <td>0.854913</td>\n",
       "      <td>1.841028</td>\n",
       "      <td>3.503556</td>\n",
       "    </tr>\n",
       "    <tr>\n",
       "      <td>89</td>\n",
       "      <td>TPWO</td>\n",
       "      <td>484704.0</td>\n",
       "      <td>9076826.0</td>\n",
       "      <td>44.7</td>\n",
       "      <td>3.37</td>\n",
       "      <td>9.52</td>\n",
       "      <td>16.9449</td>\n",
       "      <td>1878.869</td>\n",
       "      <td>11.3569</td>\n",
       "      <td>0.978637</td>\n",
       "      <td>1.229039</td>\n",
       "      <td>3.273897</td>\n",
       "    </tr>\n",
       "    <tr>\n",
       "      <td>90</td>\n",
       "      <td>CDI</td>\n",
       "      <td>484686.0</td>\n",
       "      <td>9076515.0</td>\n",
       "      <td>25.5</td>\n",
       "      <td>5.05</td>\n",
       "      <td>12.24</td>\n",
       "      <td>0.1683</td>\n",
       "      <td>173.200</td>\n",
       "      <td>25.5025</td>\n",
       "      <td>1.087781</td>\n",
       "      <td>-0.773916</td>\n",
       "      <td>2.238548</td>\n",
       "    </tr>\n",
       "    <tr>\n",
       "      <td>91</td>\n",
       "      <td>CD2</td>\n",
       "      <td>484818.0</td>\n",
       "      <td>9077043.0</td>\n",
       "      <td>23.9</td>\n",
       "      <td>6.40</td>\n",
       "      <td>8.39</td>\n",
       "      <td>0.3996</td>\n",
       "      <td>350.398</td>\n",
       "      <td>40.9600</td>\n",
       "      <td>0.923762</td>\n",
       "      <td>-0.398375</td>\n",
       "      <td>2.544562</td>\n",
       "    </tr>\n",
       "    <tr>\n",
       "      <td>92</td>\n",
       "      <td>BC-1</td>\n",
       "      <td>484786.0</td>\n",
       "      <td>9075755.0</td>\n",
       "      <td>30.2</td>\n",
       "      <td>5.99</td>\n",
       "      <td>5.61</td>\n",
       "      <td>0.5064</td>\n",
       "      <td>575.273</td>\n",
       "      <td>35.8801</td>\n",
       "      <td>0.748963</td>\n",
       "      <td>-0.295506</td>\n",
       "      <td>2.759874</td>\n",
       "    </tr>\n",
       "  </tbody>\n",
       "</table>\n",
       "<p>64 rows × 12 columns</p>\n",
       "</div>"
      ],
      "text/plain": [
       "       Kode         X          Y  T (c)    Ph  H2O (%)  CO2 (%)  Hg (ppb)  \\\n",
       "Νο.                                                                         \n",
       "1     B-400  485532.3  9072204.0   28.7  6.21     4.97   0.4500   456.000   \n",
       "2      -850  485317.9  9072591.0   30.2  6.52     6.68   0.4200   411.000   \n",
       "3     -1500  485005.0  9073171.0   31.7  6.93     5.12   0.5300   544.000   \n",
       "4     -2000  484737.0  9073593.0   28.9  6.06     6.09   0.5500   613.000   \n",
       "5     -2500  484482.2  9074025.0   27.7  5.90     4.99   0.3300   306.000   \n",
       "..      ...       ...        ...    ...   ...      ...      ...       ...   \n",
       "88   RanTMT  484502.0  9076138.0   25.2  2.03     7.16  69.3470  3188.280   \n",
       "89     TPWO  484704.0  9076826.0   44.7  3.37     9.52  16.9449  1878.869   \n",
       "90      CDI  484686.0  9076515.0   25.5  5.05    12.24   0.1683   173.200   \n",
       "91      CD2  484818.0  9077043.0   23.9  6.40     8.39   0.3996   350.398   \n",
       "92     BC-1  484786.0  9075755.0   30.2  5.99     5.61   0.5064   575.273   \n",
       "\n",
       "     Ph Normal  H2O (%) Normal  CO2 (%) Normal  Hg (ppb) Normal  \n",
       "Νο.                                                              \n",
       "1      38.5641        0.696356       -0.346787         2.658965  \n",
       "2      42.5104        0.824776       -0.376751         2.613842  \n",
       "3      48.0249        0.709270       -0.275724         2.735599  \n",
       "4      36.7236        0.784617       -0.259637         2.787460  \n",
       "5      34.8100        0.698101       -0.481486         2.485721  \n",
       "..         ...             ...             ...              ...  \n",
       "88      4.1209        0.854913        1.841028         3.503556  \n",
       "89     11.3569        0.978637        1.229039         3.273897  \n",
       "90     25.5025        1.087781       -0.773916         2.238548  \n",
       "91     40.9600        0.923762       -0.398375         2.544562  \n",
       "92     35.8801        0.748963       -0.295506         2.759874  \n",
       "\n",
       "[64 rows x 12 columns]"
      ]
     },
     "execution_count": 64,
     "metadata": {},
     "output_type": "execute_result"
    }
   ],
   "source": [
    "df = pd.read_excel('DATA GGC.xlsx', sheet_name='RAPI', usecols='A:M', index_col=0)\n",
    "df = df.rename(columns={df.columns[3]:'T (c)', df.columns[4]:'Ph', df.columns[5]:'H2O (%)',\n",
    "                        df.columns[8]:'Ph Normal', df.columns[9]:'H2O (%) Normal'})\n",
    "df"
   ]
  },
  {
   "cell_type": "markdown",
   "metadata": {},
   "source": [
    "## CORRELATION "
   ]
  },
  {
   "cell_type": "code",
   "execution_count": 65,
   "metadata": {},
   "outputs": [
    {
     "name": "stdout",
     "output_type": "stream",
     "text": [
      "Pearson Correlation Hg & CO2 : 0.898\n"
     ]
    }
   ],
   "source": [
    "from scipy import stats\n",
    "p_Hg_CO2 = stats.pearsonr(np.array(df['CO2 (%)']), np.array(df['Hg (ppb)']))\n",
    "print(f'Pearson Correlation Hg & CO2 : {p_Hg_CO2[0]:.3f}')"
   ]
  },
  {
   "cell_type": "code",
   "execution_count": 66,
   "metadata": {},
   "outputs": [
    {
     "name": "stdout",
     "output_type": "stream",
     "text": [
      "Pearson Correlation Hg & Ph : -0.739\n"
     ]
    }
   ],
   "source": [
    "p_Hg_Ph = stats.pearsonr(np.array(df['Ph']), np.array(df['Hg (ppb)']))\n",
    "print(f'Pearson Correlation Hg & Ph : {p_Hg_Ph[0]:.3f}')"
   ]
  },
  {
   "cell_type": "markdown",
   "metadata": {},
   "source": [
    "## ML"
   ]
  },
  {
   "cell_type": "code",
   "execution_count": 67,
   "metadata": {},
   "outputs": [],
   "source": [
    "from sklearn.model_selection import train_test_split\n",
    "from sklearn.neighbors import KNeighborsRegressor\n",
    "from sklearn.ensemble import RandomForestRegressor\n",
    "from sklearn.neural_network import MLPRegressor\n",
    "from sklearn.svm import SVR\n",
    "from sklearn.tree import DecisionTreeRegressor\n",
    "from sklearn.model_selection import cross_val_score\n",
    "from sklearn.model_selection import RandomizedSearchCV\n",
    "from sklearn.metrics import mean_absolute_error\n",
    "from sklearn.model_selection import GridSearchCV\n",
    "from sklearn.preprocessing import MinMaxScaler"
   ]
  },
  {
   "cell_type": "code",
   "execution_count": 68,
   "metadata": {},
   "outputs": [
    {
     "data": {
      "text/plain": [
       "Index(['Kode', 'X', 'Y', 'T (c)', 'Ph', 'H2O (%)', 'CO2 (%)', 'Hg (ppb)',\n",
       "       'Ph Normal', 'H2O (%) Normal', 'CO2 (%) Normal', 'Hg (ppb) Normal'],\n",
       "      dtype='object')"
      ]
     },
     "execution_count": 68,
     "metadata": {},
     "output_type": "execute_result"
    }
   ],
   "source": [
    "df.columns"
   ]
  },
  {
   "cell_type": "markdown",
   "metadata": {},
   "source": [
    "DATA SPLIT"
   ]
  },
  {
   "cell_type": "code",
   "execution_count": 69,
   "metadata": {},
   "outputs": [],
   "source": [
    "X = df[['X', 'Y', 'Ph Normal', 'CO2 (%)']]\n",
    "y = df['Hg (ppb) Normal']\n",
    "\n",
    "scaler = MinMaxScaler()\n",
    "X_train, X_test, y_train, y_test = train_test_split(X, y, random_state=0)\n",
    "\n",
    "X_train_scaled = scaler.fit_transform(X_train)\n",
    "X_test_scaled = scaler.transform(X_test)\n",
    "\n",
    "#keknya data yang 'scaled' ga dipake"
   ]
  },
  {
   "cell_type": "markdown",
   "metadata": {},
   "source": [
    "### KNN-Regressor "
   ]
  },
  {
   "cell_type": "markdown",
   "metadata": {},
   "source": [
    "Random Search"
   ]
  },
  {
   "cell_type": "code",
   "execution_count": 70,
   "metadata": {},
   "outputs": [],
   "source": [
    "n_neighbors = [3, 4, 5, 6, 7, 8, 9, 10]\n",
    "weights = ['uniform', 'distance']\n",
    "algorithm = ['auto', 'ball_tree', 'kd_tree', 'brute']\n",
    "leaf_size = [30, 40, 50, 60, 70]                         \n",
    "p = [1, 2]\n",
    "random_grid = {'n_neighbors': n_neighbors,\n",
    "               'weights': weights,\n",
    "               'algorithm': algorithm,\n",
    "               'leaf_size': leaf_size,\n",
    "               'p': p}"
   ]
  },
  {
   "cell_type": "code",
   "execution_count": 84,
   "metadata": {},
   "outputs": [
    {
     "name": "stdout",
     "output_type": "stream",
     "text": [
      "Fitting 5 folds for each of 100 candidates, totalling 500 fits\n"
     ]
    },
    {
     "name": "stderr",
     "output_type": "stream",
     "text": [
      "[Parallel(n_jobs=-1)]: Using backend LokyBackend with 4 concurrent workers.\n",
      "[Parallel(n_jobs=-1)]: Done 308 tasks      | elapsed:    1.3s\n",
      "[Parallel(n_jobs=-1)]: Done 500 out of 500 | elapsed:    1.9s finished\n",
      "C:\\Users\\LENOVO\\Anaconda3\\lib\\site-packages\\sklearn\\model_selection\\_search.py:814: DeprecationWarning: The default of the `iid` parameter will change from True to False in version 0.22 and will be removed in 0.24. This will change numeric results when test-set sizes are unequal.\n",
      "  DeprecationWarning)\n"
     ]
    },
    {
     "data": {
      "text/plain": [
       "RandomizedSearchCV(cv=5, error_score='raise-deprecating',\n",
       "                   estimator=KNeighborsRegressor(algorithm='auto', leaf_size=30,\n",
       "                                                 metric='minkowski',\n",
       "                                                 metric_params=None,\n",
       "                                                 n_jobs=None, n_neighbors=5,\n",
       "                                                 p=2, weights='uniform'),\n",
       "                   iid='warn', n_iter=100, n_jobs=-1,\n",
       "                   param_distributions={'algorithm': ['auto', 'ball_tree',\n",
       "                                                      'kd_tree', 'brute'],\n",
       "                                        'leaf_size': [30, 40, 50, 60, 70],\n",
       "                                        'n_neighbors': [3, 4, 5, 6, 7, 8, 9,\n",
       "                                                        10],\n",
       "                                        'p': [1, 2],\n",
       "                                        'weights': ['uniform', 'distance']},\n",
       "                   pre_dispatch='2*n_jobs', random_state=11, refit=True,\n",
       "                   return_train_score=False, scoring=None, verbose=2)"
      ]
     },
     "execution_count": 84,
     "metadata": {},
     "output_type": "execute_result"
    }
   ],
   "source": [
    "knr = KNeighborsRegressor()\n",
    "knr_random = RandomizedSearchCV(estimator = knr, param_distributions = random_grid,\n",
    "                                n_iter = 100, cv = 5, verbose=2, random_state=11,\n",
    "                                n_jobs = -1)\n",
    "\n",
    "# Fit the random search model\n",
    "knr_random.fit(X_train, y_train)"
   ]
  },
  {
   "cell_type": "code",
   "execution_count": 85,
   "metadata": {},
   "outputs": [
    {
     "data": {
      "text/plain": [
       "-0.3346836798866311"
      ]
     },
     "execution_count": 85,
     "metadata": {},
     "output_type": "execute_result"
    }
   ],
   "source": [
    "knr_random.best_score_"
   ]
  },
  {
   "cell_type": "code",
   "execution_count": 86,
   "metadata": {},
   "outputs": [
    {
     "data": {
      "text/plain": [
       "{'weights': 'uniform',\n",
       " 'p': 1,\n",
       " 'n_neighbors': 7,\n",
       " 'leaf_size': 60,\n",
       " 'algorithm': 'kd_tree'}"
      ]
     },
     "execution_count": 86,
     "metadata": {},
     "output_type": "execute_result"
    }
   ],
   "source": [
    "knr_random.best_params_"
   ]
  },
  {
   "cell_type": "code",
   "execution_count": 87,
   "metadata": {},
   "outputs": [
    {
     "name": "stdout",
     "output_type": "stream",
     "text": [
      "Model Performance\n",
      "MAE: 0.1424261897303464\n",
      "Accuracy = 94.45%.\n"
     ]
    }
   ],
   "source": [
    "#Evaluasi RandomizedSearchCV\n",
    "def evaluate(model, test_features, test_labels):\n",
    "    predictions = model.predict(test_features)\n",
    "    errors = abs(predictions - test_labels)\n",
    "    mape = 100 * np.mean(errors / test_labels)\n",
    "    accuracy = 100 - mape\n",
    "    print('Model Performance')\n",
    "    print(f'MAE: {mean_absolute_error(test_labels, model.predict(test_features))}')\n",
    "    print('Accuracy = {:0.2f}%.'.format(accuracy))\n",
    "    \n",
    "    return accuracy\n",
    "\n",
    "\n",
    "base_model = knr\n",
    "base_model.fit(X_train_scaled, y_train)\n",
    "base_accuracy = evaluate(base_model, X_test, y_test)"
   ]
  },
  {
   "cell_type": "code",
   "execution_count": 88,
   "metadata": {},
   "outputs": [
    {
     "name": "stdout",
     "output_type": "stream",
     "text": [
      "Model Performance\n",
      "MAE: 0.19543052279711634\n",
      "Accuracy = 92.29%.\n"
     ]
    }
   ],
   "source": [
    "best_random_knn = knr_random.best_estimator_\n",
    "random_accuracy_knn = evaluate(best_random_knn, X_test, y_test)"
   ]
  },
  {
   "cell_type": "markdown",
   "metadata": {},
   "source": [
    "GRIDSEARCH"
   ]
  },
  {
   "cell_type": "code",
   "execution_count": 89,
   "metadata": {},
   "outputs": [
    {
     "name": "stdout",
     "output_type": "stream",
     "text": [
      "Fitting 5 folds for each of 640 candidates, totalling 3200 fits\n"
     ]
    },
    {
     "name": "stderr",
     "output_type": "stream",
     "text": [
      "[Parallel(n_jobs=-1)]: Using backend LokyBackend with 4 concurrent workers.\n",
      "[Parallel(n_jobs=-1)]: Done 532 tasks      | elapsed:    2.1s\n",
      "[Parallel(n_jobs=-1)]: Done 3200 out of 3200 | elapsed:    9.8s finished\n",
      "C:\\Users\\LENOVO\\Anaconda3\\lib\\site-packages\\sklearn\\model_selection\\_search.py:814: DeprecationWarning: The default of the `iid` parameter will change from True to False in version 0.22 and will be removed in 0.24. This will change numeric results when test-set sizes are unequal.\n",
      "  DeprecationWarning)\n"
     ]
    },
    {
     "data": {
      "text/plain": [
       "GridSearchCV(cv=5, error_score='raise-deprecating',\n",
       "             estimator=KNeighborsRegressor(algorithm='auto', leaf_size=30,\n",
       "                                           metric='minkowski',\n",
       "                                           metric_params=None, n_jobs=None,\n",
       "                                           n_neighbors=5, p=2,\n",
       "                                           weights='uniform'),\n",
       "             iid='warn', n_jobs=-1,\n",
       "             param_grid={'algorithm': ['auto', 'ball_tree', 'kd_tree', 'brute'],\n",
       "                         'leaf_size': [30, 40, 50, 60, 70],\n",
       "                         'n_neighbors': [3, 4, 5, 6, 7, 8, 9, 10], 'p': [1, 2],\n",
       "                         'weights': ['uniform', 'distance']},\n",
       "             pre_dispatch='2*n_jobs', refit=True, return_train_score=False,\n",
       "             scoring=None, verbose=2)"
      ]
     },
     "execution_count": 89,
     "metadata": {},
     "output_type": "execute_result"
    }
   ],
   "source": [
    "grid_search_knn = GridSearchCV(estimator = knr, param_grid = random_grid, cv = 5, n_jobs = -1, verbose = 2)\n",
    "grid_search_knn.fit(X_train, y_train)"
   ]
  },
  {
   "cell_type": "code",
   "execution_count": 90,
   "metadata": {},
   "outputs": [
    {
     "data": {
      "text/plain": [
       "-0.3346836798866311"
      ]
     },
     "execution_count": 90,
     "metadata": {},
     "output_type": "execute_result"
    }
   ],
   "source": [
    "grid_search_knn.best_score_"
   ]
  },
  {
   "cell_type": "code",
   "execution_count": 91,
   "metadata": {},
   "outputs": [
    {
     "data": {
      "text/plain": [
       "{'algorithm': 'auto',\n",
       " 'leaf_size': 30,\n",
       " 'n_neighbors': 7,\n",
       " 'p': 1,\n",
       " 'weights': 'uniform'}"
      ]
     },
     "execution_count": 91,
     "metadata": {},
     "output_type": "execute_result"
    }
   ],
   "source": [
    "grid_search_knn.best_params_"
   ]
  },
  {
   "cell_type": "code",
   "execution_count": 92,
   "metadata": {},
   "outputs": [
    {
     "name": "stdout",
     "output_type": "stream",
     "text": [
      "Model Performance\n",
      "MAE: 0.15696640051839802\n",
      "Accuracy = 94.14%.\n"
     ]
    }
   ],
   "source": [
    "best_grid_knn = grid_search_knn.best_estimator_\n",
    "grid_accuracy = evaluate(best_grid_knn, X_test_scaled, y_test)"
   ]
  },
  {
   "cell_type": "code",
   "execution_count": null,
   "metadata": {},
   "outputs": [],
   "source": []
  }
 ],
 "metadata": {
  "kernelspec": {
   "display_name": "Python 3",
   "language": "python",
   "name": "python3"
  },
  "language_info": {
   "codemirror_mode": {
    "name": "ipython",
    "version": 3
   },
   "file_extension": ".py",
   "mimetype": "text/x-python",
   "name": "python",
   "nbconvert_exporter": "python",
   "pygments_lexer": "ipython3",
   "version": "3.7.4"
  }
 },
 "nbformat": 4,
 "nbformat_minor": 2
}
